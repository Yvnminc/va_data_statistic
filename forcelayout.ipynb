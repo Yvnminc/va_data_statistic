{
 "cells": [
  {
   "cell_type": "code",
   "execution_count": 6,
   "metadata": {},
   "outputs": [
    {
     "data": {
      "text/html": [
       "<div>\n",
       "<style scoped>\n",
       "    .dataframe tbody tr th:only-of-type {\n",
       "        vertical-align: middle;\n",
       "    }\n",
       "\n",
       "    .dataframe tbody tr th {\n",
       "        vertical-align: top;\n",
       "    }\n",
       "\n",
       "    .dataframe thead th {\n",
       "        text-align: right;\n",
       "    }\n",
       "</style>\n",
       "<table border=\"1\" class=\"dataframe\">\n",
       "  <thead>\n",
       "    <tr style=\"text-align: right;\">\n",
       "      <th></th>\n",
       "      <th>Release Year</th>\n",
       "      <th>RAM Capacity (Mb)</th>\n",
       "      <th>Storage (Mb)</th>\n",
       "      <th>CPU Clock (MHz)</th>\n",
       "      <th>Display Diagonal (in)</th>\n",
       "      <th>Display Width(px)</th>\n",
       "      <th>Display Length(px)</th>\n",
       "      <th>Width (mm)</th>\n",
       "      <th>Length (mm)</th>\n",
       "      <th>Depth (mm)</th>\n",
       "      <th>Volume (cubic cm)</th>\n",
       "      <th>Mass (grams)</th>\n",
       "      <th>Pixel Density (per inch)</th>\n",
       "    </tr>\n",
       "  </thead>\n",
       "  <tbody>\n",
       "    <tr>\n",
       "      <th>0</th>\n",
       "      <td>1989.000000</td>\n",
       "      <td>0.000000</td>\n",
       "      <td>0.000000</td>\n",
       "      <td>0.000000</td>\n",
       "      <td>0.050360</td>\n",
       "      <td>0.000000</td>\n",
       "      <td>0.000000</td>\n",
       "      <td>0.369714</td>\n",
       "      <td>0.118852</td>\n",
       "      <td>0.146889</td>\n",
       "      <td>0.059332</td>\n",
       "      <td>0.044181</td>\n",
       "      <td>0.000000</td>\n",
       "    </tr>\n",
       "    <tr>\n",
       "      <th>1</th>\n",
       "      <td>1991.250000</td>\n",
       "      <td>0.000214</td>\n",
       "      <td>0.000015</td>\n",
       "      <td>0.002230</td>\n",
       "      <td>0.223022</td>\n",
       "      <td>0.056911</td>\n",
       "      <td>0.047619</td>\n",
       "      <td>0.416098</td>\n",
       "      <td>0.147541</td>\n",
       "      <td>0.127646</td>\n",
       "      <td>0.065799</td>\n",
       "      <td>0.053879</td>\n",
       "      <td>0.030793</td>\n",
       "    </tr>\n",
       "    <tr>\n",
       "      <th>2</th>\n",
       "      <td>1991.416667</td>\n",
       "      <td>0.000092</td>\n",
       "      <td>0.000015</td>\n",
       "      <td>0.001895</td>\n",
       "      <td>0.187050</td>\n",
       "      <td>0.056911</td>\n",
       "      <td>0.023810</td>\n",
       "      <td>0.432469</td>\n",
       "      <td>0.147541</td>\n",
       "      <td>0.101988</td>\n",
       "      <td>0.056634</td>\n",
       "      <td>0.044181</td>\n",
       "      <td>0.035336</td>\n",
       "    </tr>\n",
       "    <tr>\n",
       "      <th>3</th>\n",
       "      <td>1992.000000</td>\n",
       "      <td>0.000458</td>\n",
       "      <td>0.000015</td>\n",
       "      <td>0.002230</td>\n",
       "      <td>0.223022</td>\n",
       "      <td>0.056911</td>\n",
       "      <td>0.047619</td>\n",
       "      <td>0.416098</td>\n",
       "      <td>0.147541</td>\n",
       "      <td>0.127646</td>\n",
       "      <td>0.065799</td>\n",
       "      <td>0.053879</td>\n",
       "      <td>0.030793</td>\n",
       "    </tr>\n",
       "    <tr>\n",
       "      <th>4</th>\n",
       "      <td>1993.166667</td>\n",
       "      <td>0.000214</td>\n",
       "      <td>0.000015</td>\n",
       "      <td>0.003386</td>\n",
       "      <td>0.258993</td>\n",
       "      <td>0.154472</td>\n",
       "      <td>0.063492</td>\n",
       "      <td>0.432469</td>\n",
       "      <td>0.147541</td>\n",
       "      <td>0.101988</td>\n",
       "      <td>0.056634</td>\n",
       "      <td>0.046336</td>\n",
       "      <td>0.129985</td>\n",
       "    </tr>\n",
       "  </tbody>\n",
       "</table>\n",
       "</div>"
      ],
      "text/plain": [
       "   Release Year  RAM Capacity (Mb)  Storage (Mb)  CPU Clock (MHz)  \\\n",
       "0   1989.000000           0.000000      0.000000         0.000000   \n",
       "1   1991.250000           0.000214      0.000015         0.002230   \n",
       "2   1991.416667           0.000092      0.000015         0.001895   \n",
       "3   1992.000000           0.000458      0.000015         0.002230   \n",
       "4   1993.166667           0.000214      0.000015         0.003386   \n",
       "\n",
       "   Display Diagonal (in)  Display Width(px)  Display Length(px)  Width (mm)  \\\n",
       "0               0.050360           0.000000            0.000000    0.369714   \n",
       "1               0.223022           0.056911            0.047619    0.416098   \n",
       "2               0.187050           0.056911            0.023810    0.432469   \n",
       "3               0.223022           0.056911            0.047619    0.416098   \n",
       "4               0.258993           0.154472            0.063492    0.432469   \n",
       "\n",
       "   Length (mm)  Depth (mm)  Volume (cubic cm)  Mass (grams)  \\\n",
       "0     0.118852    0.146889           0.059332      0.044181   \n",
       "1     0.147541    0.127646           0.065799      0.053879   \n",
       "2     0.147541    0.101988           0.056634      0.044181   \n",
       "3     0.147541    0.127646           0.065799      0.053879   \n",
       "4     0.147541    0.101988           0.056634      0.046336   \n",
       "\n",
       "   Pixel Density (per inch)  \n",
       "0                  0.000000  \n",
       "1                  0.030793  \n",
       "2                  0.035336  \n",
       "3                  0.030793  \n",
       "4                  0.129985  "
      ]
     },
     "execution_count": 6,
     "metadata": {},
     "output_type": "execute_result"
    }
   ],
   "source": [
    "# include the required packages\n",
    "import pandas as pd\n",
    "import numpy as np\n",
    "import matplotlib.pyplot as plt\n",
    "from matplotlib.gridspec import GridSpec\n",
    "import seaborn as sns\n",
    "from sklearn.decomposition import PCA\n",
    "from sklearn.discriminant_analysis import LinearDiscriminantAnalysis\n",
    "import plotly.express as px\n",
    "o_df = pd.read_csv(\"Mobile Device Data.csv\")\n",
    "y_df = o_df[\"Release Year\"]\n",
    "df = o_df.select_dtypes(include=np.number)\n",
    "df = df.drop(columns= [\"Model ID\"])\n",
    "df.head()"
   ]
  },
  {
   "cell_type": "code",
   "execution_count": 7,
   "metadata": {},
   "outputs": [],
   "source": [
    "import numpy as np\n",
    "import networkx as nx\n",
    "from sklearn.metrics.pairwise import cosine_similarity\n",
    "import plotly.graph_objects as go\n",
    "similarity_matrix = cosine_similarity(df)\n",
    "cor_matrix = df.corr()"
   ]
  },
  {
   "cell_type": "code",
   "execution_count": 8,
   "metadata": {},
   "outputs": [
    {
     "data": {
      "text/plain": [
       "(13, 13)"
      ]
     },
     "execution_count": 8,
     "metadata": {},
     "output_type": "execute_result"
    }
   ],
   "source": [
    "cor_matrix.shape"
   ]
  },
  {
   "cell_type": "code",
   "execution_count": 10,
   "metadata": {},
   "outputs": [
    {
     "data": {
      "image/png": "[encoded data removed]",
      "text/plain": [
       "<Figure size 640x480 with 1 Axes>"
      ]
     },
     "metadata": {},
     "output_type": "display_data"
    }
   ],
   "source": [
    "# other imports\n",
    "import matplotlib.pyplot as plt\n",
    "import numpy as np\n",
    "\n",
    "# import the package\n",
    "import forcelayout as fl\n",
    "\n",
    "# Need a dataset to visualise\n",
    "dataset = cor_matrix\n",
    "\n",
    "# Need to use the brute force algorithm on a dataset this small\n",
    "# (not recommended for larger datasets)\n",
    "layout = fl.draw_spring_layout(dataset=dataset, algorithm=fl.SpringForce)\n",
    "\n",
    "plt.show()"
   ]
  },
  {
   "cell_type": "code",
   "execution_count": null,
   "metadata": {},
   "outputs": [],
   "source": []
  }
 ],
 "metadata": {
  "kernelspec": {
   "display_name": "Python 3.10.6 64-bit ('3.10.6')",
   "language": "python",
   "name": "python3"
  },
  "language_info": {
   "codemirror_mode": {
    "name": "ipython",
    "version": 3
   },
   "file_extension": ".py",
   "mimetype": "text/x-python",
   "name": "python",
   "nbconvert_exporter": "python",
   "pygments_lexer": "ipython3",
   "version": "3.10.6"
  },
  "orig_nbformat": 4,
  "vscode": {
   "interpreter": {
    "hash": "3c882730db67e28db1e924ef806594fad4161f4a410f43aebd253948128b358f"
   }
  }
 },
 "nbformat": 4,
 "nbformat_minor": 2
}
